{
 "cells": [
  {
   "cell_type": "code",
   "execution_count": 5,
   "id": "708fb63a-206b-4913-aa7d-78795c76ec70",
   "metadata": {},
   "outputs": [
    {
     "name": "stdout",
     "output_type": "stream",
     "text": [
      "The average investment duration is 2.98 years.\n"
     ]
    }
   ],
   "source": [
    "import pandas as pd\n",
    "data = pd.read_csv('Data_set.csv')\n",
    "investment_duration_data = data['Duration']\n",
    "df = pd.DataFrame(investment_duration_data)\n",
    "duration_mapping = {\n",
    "    'Less than 1 year': 0.5,\n",
    "    '1-3 years': 2,\n",
    "    '3-5 years': 4,\n",
    "    'More than 5 years': 6\n",
    "}\n",
    "df['Duration_Numeric'] = df['Duration'].map(duration_mapping)\n",
    "average_duration = df['Duration_Numeric'].mean()\n",
    "print(f\"The average investment duration is {average_duration:.2f} years.\")"
   ]
  },
  {
   "cell_type": "code",
   "execution_count": null,
   "id": "2f314ca8-cc3b-44f6-9547-c83f8d529ac6",
   "metadata": {},
   "outputs": [],
   "source": []
  }
 ],
 "metadata": {
  "kernelspec": {
   "display_name": "Python 3 (ipykernel)",
   "language": "python",
   "name": "python3"
  },
  "language_info": {
   "codemirror_mode": {
    "name": "ipython",
    "version": 3
   },
   "file_extension": ".py",
   "mimetype": "text/x-python",
   "name": "python",
   "nbconvert_exporter": "python",
   "pygments_lexer": "ipython3",
   "version": "3.11.7"
  }
 },
 "nbformat": 4,
 "nbformat_minor": 5
}
