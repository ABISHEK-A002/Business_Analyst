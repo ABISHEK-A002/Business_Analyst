{
 "cells": [
  {
   "cell_type": "code",
   "execution_count": 5,
   "id": "9517f608-229e-4547-b331-c0755110441b",
   "metadata": {},
   "outputs": [
    {
     "name": "stdout",
     "output_type": "stream",
     "text": [
      "The most preferred investment avenue is 'Yes' with 37 occurrences.\n",
      "\n",
      "Frequency analysis of all investment avenues:\n",
      "Investment_Avenues\n",
      "Yes    37\n",
      "No      3\n",
      "Name: count, dtype: int64\n"
     ]
    }
   ],
   "source": [
    "import pandas as pd\n",
    "data = pd.read_csv('Data_set.csv')\n",
    "investment_data = data['Investment_Avenues']\n",
    "investment_counts = investment_data.value_counts()\n",
    "most_preferred_investment_avenue = investment_counts.idxmax()\n",
    "most_preferred_investment_count = investment_counts.max()\n",
    "print(f\"The most preferred investment avenue is '{most_preferred_investment_avenue}' with {most_preferred_investment_count} occurrences.\")\n",
    "print(\"\\nFrequency analysis of all investment avenues:\")\n",
    "print(investment_counts)"
   ]
  },
  {
   "cell_type": "code",
   "execution_count": null,
   "id": "3a6e7102-4277-41ee-abc9-3572c7d35912",
   "metadata": {},
   "outputs": [],
   "source": []
  }
 ],
 "metadata": {
  "kernelspec": {
   "display_name": "Python 3 (ipykernel)",
   "language": "python",
   "name": "python3"
  },
  "language_info": {
   "codemirror_mode": {
    "name": "ipython",
    "version": 3
   },
   "file_extension": ".py",
   "mimetype": "text/x-python",
   "name": "python",
   "nbconvert_exporter": "python",
   "pygments_lexer": "ipython3",
   "version": "3.11.7"
  }
 },
 "nbformat": 4,
 "nbformat_minor": 5
}
